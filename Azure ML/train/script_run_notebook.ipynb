{
 "cells": [
  {
   "cell_type": "markdown",
   "metadata": {},
   "source": [
    "# Entraîner en utilisant Azure Machine Learning Compute\n",
    "\n",
    "* Se connecter à un espace de travail Azure Machine Learning\n",
    "* Utiliser une cible de calcul existante ou en créer une nouvelle\n",
    "* Configurer et exécuter la commande\n"
   ]
  },
  {
   "cell_type": "markdown",
   "metadata": {},
   "source": [
    "## Connection à l'espace de travail\n",
    "\n",
    "Initialiser un objet d’espace de travail."
   ]
  },
  {
   "cell_type": "code",
   "execution_count": null,
   "metadata": {
    "automl_codegen": {
     "arguments": [
      "subscription_id",
      "resource_group",
      "workspace_name"
     ]
    },
    "tags": [
     "create workspace"
    ]
   },
   "outputs": [],
   "source": [
    "# Importation des librairies\n",
    "from azure.identity import DefaultAzureCredential\n",
    "from azure.ai.ml import MLClient\n",
    "\n",
    "# Les informations de notre espace de travail\n",
    "subscription_id = \"e91c28d\"\n",
    "resource_group = \"for_dmr\"\n",
    "workspace_name = \"Espace_DMR\"\n",
    "\n",
    "credential = DefaultAzureCredential()\n",
    "ml_client = MLClient(credential, subscription_id, resource_group, workspace_name)\n",
    "workspace = ml_client.workspaces.get(name=ml_client.workspace_name)\n",
    "print(ml_client.workspace_name, workspace.resource_group, workspace.location, ml_client.connections._subscription_id, sep = '\\n')"
   ]
  },
  {
   "cell_type": "markdown",
   "metadata": {},
   "source": [
    "### Create project directory\n",
    "\n",
    "Créez un répertoire qui contiendra le script de formation auquel vous devrez accéder sur la ressource distante."
   ]
  },
  {
   "cell_type": "code",
   "execution_count": null,
   "metadata": {},
   "outputs": [],
   "source": [
    "import os\n",
    "import shutil\n",
    "\n",
    "project_folder = os.path.join(\".\", 'code_folder')\n",
    "os.makedirs(project_folder, exist_ok=True)\n",
    "shutil.copy('script.py', project_folder)"
   ]
  },
  {
   "cell_type": "markdown",
   "metadata": {},
   "source": [
    "### Use existing compute target or create new (Basic)\n",
    "\n",
    "Azure Machine Learning Compute est une infrastructure de calcul gérée qui permet à l'utilisateur de créer facilement des calculs à nœud unique ou à nœuds multiples de la famille de machines virtuelles appropriée. Elle est créée **dans la région de votre espace de travail** et constitue une ressource qui peut être utilisée par d'autres utilisateurs de votre espace de travail. Elle se met automatiquement à l'échelle par défaut sur max_nodes, lorsqu'un travail est soumis, et s'exécute dans un environnement conteneurisé qui empaquete les dépendances comme spécifié par l'utilisateur.\n",
    "\n",
    "Comme il s'agit d'un calcul géré, la planification des travaux et la gestion des clusters sont gérées en interne par le service Azure Machine Learning.\n",
    "\n",
    "Un cluster de calcul peut être créé à l'aide de la classe `AmlCompute`. Certains des paramètres clés de cette classe sont :\n",
    "\n",
    "* `size` - La taille de la machine virtuelle à utiliser pour le cluster. Pour plus d'informations, consultez [Séries et tailles de machines virtuelles prises en charge](https://docs.microsoft.com/en-us/azure/machine-learning/concept-compute-target#supported-vm-series-and-sizes).\n",
    "* `max_instances` - Le nombre maximal de nœuds à utiliser sur le cluster. La valeur par défaut est 1."
   ]
  },
  {
   "cell_type": "code",
   "execution_count": null,
   "metadata": {
    "automl_codegen": {
     "arguments": [
      "compute_target",
      "compute_sku"
     ]
    }
   },
   "outputs": [],
   "source": [
    "from azure.ai.ml.entities import AmlCompute\n",
    "\n",
    "#Choisir le nom de notre cluster CPU / GPU\n",
    "cluster_name = \"PipelineDMR\"\n",
    "\n",
    "# On vérifie son éxistance\n",
    "try:\n",
    "    cluster = ml_client.compute.get(cluster_name)\n",
    "    print('Found existing cluster, use it.')\n",
    "except Exception:\n",
    "    compute = AmlCompute(name=cluster_name, size='Standard_E4ds_v4',\n",
    "                         max_instances=4)\n",
    "    cluster = ml_client.compute.begin_create_or_update(compute)\n"
   ]
  },
  {
   "cell_type": "markdown",
   "metadata": {},
   "source": [
    "### Configure & Run\n",
    "\n",
    "L'environnement et le calcul ont été pré-remplis à partir de la tâche d'entraînement d'origine. Vous trouverez plus d'informations ici :\n",
    "\n",
    "`command`: https://docs.microsoft.com/en-us/python/api/azure-ai-ml/azure.ai.ml?view=azure-python-preview#azure-ai-ml-command\n",
    "\n",
    "`environment`: https://docs.microsoft.com/en-us/azure/machine-learning/resource-curated-environments#automated-ml-automl\n",
    "\n",
    "`compute`: https://docs.microsoft.com/en-us/python/api/azure-ai-ml/azure.ai.ml.entities.amlcompute?view=azure-python-preview\n",
    "\n"
   ]
  },
  {
   "cell_type": "code",
   "execution_count": null,
   "metadata": {},
   "outputs": [],
   "source": [
    "# Pour tester le script avec un environnement référencé par un fichier yaml personnalisé, supprimez le commentaire des lignes suivantes et remplacez la valeur `conda_file` par le chemin d'accès au fichier yaml.\n",
    "# Définissez la valeur de `environment` dans la tâche `command` ci-dessous sur `env`.\n",
    "\n",
    "# env = Environment(\n",
    "#    name=\"automl-tabular-env\",\n",
    "#    description=\"environment for automl inference\",\n",
    "#    image=\"mcr.microsoft.com/azureml/openmpi4.1.0-ubuntu20.04:20210727.v1\",\n",
    "#    conda_file=\"conda.yaml\",\n",
    "# )"
   ]
  },
  {
   "cell_type": "code",
   "execution_count": null,
   "metadata": {
    "automl_codegen": {
     "arguments": [
      "script_filename",
      "script_arguments",
      "environment_name",
      "environment_version",
      "compute_target",
      "experiment_name",
      "automl_child_run_id"
     ]
    }
   },
   "outputs": [],
   "source": [
    "from azure.ai.ml import command, Input\n",
    "\n",
    "# To test with new training / validation datasets, replace the default dataset id(s)/uri(s) taken from parent run below\n",
    "command_str = 'python script.py --training_dataset_uri azureml://l..ocations/fling/versions/1'\n",
    "\n",
    "command_job = command(\n",
    "    code=project_folder,\n",
    "    command=command_str,\n",
    "    tags=dict(automl_child_run_id='dmroversampling_20'),\n",
    "    environment='AzureML-ai-ml-automl:7',# en env existant\n",
    "    compute='PipelineDMR',\n",
    "    experiment_name='DMR-OversamplingData'\n",
    ")\n",
    " \n",
    "returned_job = ml_client.create_or_update(command_job)\n",
    "returned_job.studio_url"
   ]
  },
  {
   "cell_type": "markdown",
   "metadata": {},
   "source": [
    "### Initialize MLFlow Client\n",
    "\n",
    "Les métriques et les artefacts de l'exécution sont accessibles via l'interface MLFlow.\n",
    "\n",
    "Initialisez le client MLFlow ici et définissez le backend comme Azure ML, via le client MLFlow.\n",
    "\n",
    "Cette interface est automatiquement créée lors da la création de notre espace de travail par exemple: 'Espace DMR'\n",
    "\n",
    "*IMPORTANT*, vous devez avoir installé les derniers packages MLFlow avec :\n",
    "\n",
    "    pip install azureml-mlflow\n",
    "\n",
    "    pip install mlflow"
   ]
  },
  {
   "cell_type": "code",
   "execution_count": null,
   "metadata": {},
   "outputs": [],
   "source": [
    "# %pip install azureml-mlflow\n",
    "# %pip install mlflow"
   ]
  },
  {
   "cell_type": "code",
   "execution_count": null,
   "metadata": {},
   "outputs": [],
   "source": [
    "import mlflow\n",
    "\n",
    "# Obtain the tracking URL from MLClient\n",
    "MLFLOW_TRACKING_URI = ml_client.workspaces.get(\n",
    "    name=ml_client.workspace_name\n",
    ").mlflow_tracking_uri\n",
    "\n",
    "# Set the MLFLOW TRACKING URI\n",
    "\n",
    "mlflow.set_tracking_uri(MLFLOW_TRACKING_URI)\n",
    "\n",
    "# Retrieve the metrics logged to the run.\n",
    "from mlflow.tracking.client import MlflowClient\n",
    "\n",
    "# Initialize MLFlow client\n",
    "mlflow_client = MlflowClient()\n",
    "mlflow_run = mlflow_client.get_run(returned_job.name)\n",
    "mlflow_run.data.metrics\n"
   ]
  },
  {
   "cell_type": "markdown",
   "metadata": {},
   "source": [
    "### Download Fitted Model\n",
    "Télécharger le modéle dans un répertoire local si nécessaire  `local_dir`."
   ]
  },
  {
   "cell_type": "code",
   "execution_count": null,
   "metadata": {},
   "outputs": [],
   "source": [
    "# import os\n",
    "\n",
    "# Create local folder\n",
    "# local_dir = \"./artifact_downloads\"\n",
    "# if not os.path.exists(local_dir):\n",
    "#     os.mkdir(local_dir)\n",
    "# Download run's artifacts/outputs\n",
    "# local_path = mlflow_client.download_artifacts(\n",
    "#     mlflow_run.info.run_id, \"outputs\", local_dir\n",
    "# )\n",
    "# print(\"Artifacts downloaded in: {}\".format(local_path))\n",
    "# print(\"Artifacts: {}\".format(os.listdir(local_path)))"
   ]
  }
 ],
 "metadata": {
  "authors": [
   {
    "name": "vivijay"
   }
  ],
  "automl_sdk_version": "1.58.0",
  "category": "training",
  "compute": [
   "AML Compute"
  ],
  "datasets": [
   "Diabetes"
  ],
  "deployment": [
   "None"
  ],
  "exclude_from_index": false,
  "framework": [
   "None"
  ],
  "friendly_name": "Train on Azure Machine Learning Compute",
  "index_order": 1,
  "kernelspec": {
   "display_name": "Python 3",
   "language": "python",
   "name": "python3"
  },
  "language_info": {
   "codemirror_mode": {
    "name": "ipython",
    "version": 3
   },
   "file_extension": ".py",
   "mimetype": "text/x-python",
   "name": "python",
   "nbconvert_exporter": "python",
   "pygments_lexer": "ipython3",
   "version": "3.13.1"
  },
  "tags": [
   "None"
  ],
  "task": "Submit a run on Azure Machine Learning Compute."
 },
 "nbformat": 4,
 "nbformat_minor": 2
}
