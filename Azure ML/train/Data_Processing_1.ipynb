{
 "cells": [
  {
   "cell_type": "code",
   "execution_count": 2,
   "metadata": {},
   "outputs": [],
   "source": [
    "import pandas as pd\n",
    "import numpy as np"
   ]
  },
  {
   "cell_type": "code",
   "execution_count": 3,
   "metadata": {},
   "outputs": [
    {
     "data": {
      "text/plain": [
       "'/opt/val/kebeMousFiles/dmr/notebooks'"
      ]
     },
     "execution_count": 3,
     "metadata": {},
     "output_type": "execute_result"
    }
   ],
   "source": [
    "pwd"
   ]
  },
  {
   "cell_type": "code",
   "execution_count": 4,
   "metadata": {},
   "outputs": [],
   "source": [
    "data= pd.read_csv('dmr.csv', sep=\";\")"
   ]
  },
  {
   "cell_type": "code",
   "execution_count": 4,
   "metadata": {},
   "outputs": [
    {
     "data": {
      "text/html": [
       "<div>\n",
       "<style scoped>\n",
       "    .dataframe tbody tr th:only-of-type {\n",
       "        vertical-align: middle;\n",
       "    }\n",
       "\n",
       "    .dataframe tbody tr th {\n",
       "        vertical-align: top;\n",
       "    }\n",
       "\n",
       "    .dataframe thead th {\n",
       "        text-align: right;\n",
       "    }\n",
       "</style>\n",
       "<table border=\"1\" class=\"dataframe\">\n",
       "  <thead>\n",
       "    <tr style=\"text-align: right;\">\n",
       "      <th></th>\n",
       "      <th>commentaire_usager</th>\n",
       "      <th>type_level_3</th>\n",
       "      <th>type_level_2</th>\n",
       "      <th>type_level_1</th>\n",
       "    </tr>\n",
       "  </thead>\n",
       "  <tbody>\n",
       "    <tr>\n",
       "      <th>0</th>\n",
       "      <td>Graffitis sur porte métallique (voir photos)</td>\n",
       "      <td>NaN</td>\n",
       "      <td>Graffitis et autocollants sur mur, façade sur...</td>\n",
       "      <td>Graffitis, tags, affiches et autocollants</td>\n",
       "    </tr>\n",
       "    <tr>\n",
       "      <th>1</th>\n",
       "      <td>Annexion sauvage de 2 trottoirs sur 30metres ,...</td>\n",
       "      <td>Gêne à la circulation / Étalage excessif</td>\n",
       "      <td>Étalages et terrasses à usage commercial</td>\n",
       "      <td>Activités commerciales et professionnelles</td>\n",
       "    </tr>\n",
       "    <tr>\n",
       "      <th>2</th>\n",
       "      <td>Le grillage donnant sur les voies ferrées est ...</td>\n",
       "      <td>Potelet, barrière ou garde-corps détérioré</td>\n",
       "      <td>Protection</td>\n",
       "      <td>Mobiliers urbains</td>\n",
       "    </tr>\n",
       "    <tr>\n",
       "      <th>3</th>\n",
       "      <td>Autorisations sans cesse reportées depuis Août...</td>\n",
       "      <td>Incohérence d'informations chantier</td>\n",
       "      <td>Chantier</td>\n",
       "      <td>Voirie et espace public</td>\n",
       "    </tr>\n",
       "    <tr>\n",
       "      <th>4</th>\n",
       "      <td>Carton + sac</td>\n",
       "      <td>NaN</td>\n",
       "      <td>Cartons ou sacs de déchets ménagers</td>\n",
       "      <td>Objets abandonnés</td>\n",
       "    </tr>\n",
       "    <tr>\n",
       "      <th>5</th>\n",
       "      <td>24 petion</td>\n",
       "      <td>NaN</td>\n",
       "      <td>[] Patrouille propreté DT</td>\n",
       "      <td>Propreté</td>\n",
       "    </tr>\n",
       "    <tr>\n",
       "      <th>6</th>\n",
       "      <td>Non pas gênant mais dangereux et délictuel</td>\n",
       "      <td>NaN</td>\n",
       "      <td>[] Deux-roues motorisé en stationnement gênan...</td>\n",
       "      <td>Autos, motos, vélos, trottinettes...</td>\n",
       "    </tr>\n",
       "    <tr>\n",
       "      <th>7</th>\n",
       "      <td>Angle Gaité / Avenue du Maine\\nBanque SG</td>\n",
       "      <td>NaN</td>\n",
       "      <td>Graffitis et autocollants sur mur, façade sur...</td>\n",
       "      <td>Graffitis, tags, affiches et autocollants</td>\n",
       "    </tr>\n",
       "    <tr>\n",
       "      <th>8</th>\n",
       "      <td>Plot métallique plié</td>\n",
       "      <td>Plaque de nom de rue manquante ou cassée</td>\n",
       "      <td>Panneau d'information ou publicitaire</td>\n",
       "      <td>Mobiliers urbains</td>\n",
       "    </tr>\n",
       "    <tr>\n",
       "      <th>9</th>\n",
       "      <td>3975 un usager nous relance pour des éclats de...</td>\n",
       "      <td>NaN</td>\n",
       "      <td>Déchets et/ou salissures divers</td>\n",
       "      <td>Propreté</td>\n",
       "    </tr>\n",
       "  </tbody>\n",
       "</table>\n",
       "</div>"
      ],
      "text/plain": [
       "                                  commentaire_usager  \\\n",
       "0       Graffitis sur porte métallique (voir photos)   \n",
       "1  Annexion sauvage de 2 trottoirs sur 30metres ,...   \n",
       "2  Le grillage donnant sur les voies ferrées est ...   \n",
       "3  Autorisations sans cesse reportées depuis Août...   \n",
       "4                                       Carton + sac   \n",
       "5                                          24 petion   \n",
       "6        Non pas gênant mais dangereux et délictuel    \n",
       "7           Angle Gaité / Avenue du Maine\\nBanque SG   \n",
       "8                              Plot métallique plié    \n",
       "9  3975 un usager nous relance pour des éclats de...   \n",
       "\n",
       "                                  type_level_3  \\\n",
       "0                                          NaN   \n",
       "1     Gêne à la circulation / Étalage excessif   \n",
       "2   Potelet, barrière ou garde-corps détérioré   \n",
       "3          Incohérence d'informations chantier   \n",
       "4                                          NaN   \n",
       "5                                          NaN   \n",
       "6                                          NaN   \n",
       "7                                          NaN   \n",
       "8     Plaque de nom de rue manquante ou cassée   \n",
       "9                                          NaN   \n",
       "\n",
       "                                        type_level_2  \\\n",
       "0   Graffitis et autocollants sur mur, façade sur...   \n",
       "1           Étalages et terrasses à usage commercial   \n",
       "2                                         Protection   \n",
       "3                                           Chantier   \n",
       "4                Cartons ou sacs de déchets ménagers   \n",
       "5                          [] Patrouille propreté DT   \n",
       "6   [] Deux-roues motorisé en stationnement gênan...   \n",
       "7   Graffitis et autocollants sur mur, façade sur...   \n",
       "8              Panneau d'information ou publicitaire   \n",
       "9                    Déchets et/ou salissures divers   \n",
       "\n",
       "                                 type_level_1  \n",
       "0   Graffitis, tags, affiches et autocollants  \n",
       "1  Activités commerciales et professionnelles  \n",
       "2                           Mobiliers urbains  \n",
       "3                     Voirie et espace public  \n",
       "4                           Objets abandonnés  \n",
       "5                                    Propreté  \n",
       "6        Autos, motos, vélos, trottinettes...  \n",
       "7   Graffitis, tags, affiches et autocollants  \n",
       "8                           Mobiliers urbains  \n",
       "9                                    Propreté  "
      ]
     },
     "execution_count": 4,
     "metadata": {},
     "output_type": "execute_result"
    }
   ],
   "source": [
    "data.head(10)"
   ]
  },
  {
   "cell_type": "markdown",
   "metadata": {},
   "source": [
    "Taille de mes données"
   ]
  },
  {
   "cell_type": "code",
   "execution_count": 5,
   "metadata": {},
   "outputs": [
    {
     "data": {
      "text/plain": [
       "(2135411, 4)"
      ]
     },
     "execution_count": 5,
     "metadata": {},
     "output_type": "execute_result"
    }
   ],
   "source": [
    "data.shape"
   ]
  },
  {
   "cell_type": "markdown",
   "metadata": {},
   "source": [
    "Taille de mes données avec des commentires non nuls"
   ]
  },
  {
   "cell_type": "code",
   "execution_count": 6,
   "metadata": {},
   "outputs": [
    {
     "data": {
      "text/plain": [
       "(1145098, 4)"
      ]
     },
     "execution_count": 6,
     "metadata": {},
     "output_type": "execute_result"
    }
   ],
   "source": [
    "data=data[data['commentaire_usager'].notnull()]\n",
    "data.shape"
   ]
  },
  {
   "cell_type": "code",
   "execution_count": 12,
   "metadata": {},
   "outputs": [],
   "source": [
    "data['label']=data['type_level_1'].fillna(data['type_level_2']).fillna(data['type_level_3'])"
   ]
  },
  {
   "cell_type": "code",
   "execution_count": 13,
   "metadata": {},
   "outputs": [
    {
     "data": {
      "text/html": [
       "<div>\n",
       "<style scoped>\n",
       "    .dataframe tbody tr th:only-of-type {\n",
       "        vertical-align: middle;\n",
       "    }\n",
       "\n",
       "    .dataframe tbody tr th {\n",
       "        vertical-align: top;\n",
       "    }\n",
       "\n",
       "    .dataframe thead th {\n",
       "        text-align: right;\n",
       "    }\n",
       "</style>\n",
       "<table border=\"1\" class=\"dataframe\">\n",
       "  <thead>\n",
       "    <tr style=\"text-align: right;\">\n",
       "      <th></th>\n",
       "      <th>commentaire_usager</th>\n",
       "      <th>type_level_3</th>\n",
       "      <th>type_level_2</th>\n",
       "      <th>type_level_1</th>\n",
       "      <th>label</th>\n",
       "    </tr>\n",
       "  </thead>\n",
       "  <tbody>\n",
       "    <tr>\n",
       "      <th>0</th>\n",
       "      <td>Graffitis sur porte métallique (voir photos)</td>\n",
       "      <td>NaN</td>\n",
       "      <td>Graffitis et autocollants sur mur, façade sur...</td>\n",
       "      <td>Graffitis, tags, affiches et autocollants</td>\n",
       "      <td>Graffitis, tags, affiches et autocollants</td>\n",
       "    </tr>\n",
       "    <tr>\n",
       "      <th>1</th>\n",
       "      <td>Annexion sauvage de 2 trottoirs sur 30metres ,...</td>\n",
       "      <td>Gêne à la circulation / Étalage excessif</td>\n",
       "      <td>Étalages et terrasses à usage commercial</td>\n",
       "      <td>Activités commerciales et professionnelles</td>\n",
       "      <td>Activités commerciales et professionnelles</td>\n",
       "    </tr>\n",
       "    <tr>\n",
       "      <th>2</th>\n",
       "      <td>Le grillage donnant sur les voies ferrées est ...</td>\n",
       "      <td>Potelet, barrière ou garde-corps détérioré</td>\n",
       "      <td>Protection</td>\n",
       "      <td>Mobiliers urbains</td>\n",
       "      <td>Mobiliers urbains</td>\n",
       "    </tr>\n",
       "    <tr>\n",
       "      <th>3</th>\n",
       "      <td>Autorisations sans cesse reportées depuis Août...</td>\n",
       "      <td>Incohérence d'informations chantier</td>\n",
       "      <td>Chantier</td>\n",
       "      <td>Voirie et espace public</td>\n",
       "      <td>Voirie et espace public</td>\n",
       "    </tr>\n",
       "    <tr>\n",
       "      <th>4</th>\n",
       "      <td>Carton + sac</td>\n",
       "      <td>NaN</td>\n",
       "      <td>Cartons ou sacs de déchets ménagers</td>\n",
       "      <td>Objets abandonnés</td>\n",
       "      <td>Objets abandonnés</td>\n",
       "    </tr>\n",
       "  </tbody>\n",
       "</table>\n",
       "</div>"
      ],
      "text/plain": [
       "                                  commentaire_usager  \\\n",
       "0       Graffitis sur porte métallique (voir photos)   \n",
       "1  Annexion sauvage de 2 trottoirs sur 30metres ,...   \n",
       "2  Le grillage donnant sur les voies ferrées est ...   \n",
       "3  Autorisations sans cesse reportées depuis Août...   \n",
       "4                                       Carton + sac   \n",
       "\n",
       "                                  type_level_3  \\\n",
       "0                                          NaN   \n",
       "1     Gêne à la circulation / Étalage excessif   \n",
       "2   Potelet, barrière ou garde-corps détérioré   \n",
       "3          Incohérence d'informations chantier   \n",
       "4                                          NaN   \n",
       "\n",
       "                                        type_level_2  \\\n",
       "0   Graffitis et autocollants sur mur, façade sur...   \n",
       "1           Étalages et terrasses à usage commercial   \n",
       "2                                         Protection   \n",
       "3                                           Chantier   \n",
       "4                Cartons ou sacs de déchets ménagers   \n",
       "\n",
       "                                 type_level_1  \\\n",
       "0   Graffitis, tags, affiches et autocollants   \n",
       "1  Activités commerciales et professionnelles   \n",
       "2                           Mobiliers urbains   \n",
       "3                     Voirie et espace public   \n",
       "4                           Objets abandonnés   \n",
       "\n",
       "                                        label  \n",
       "0   Graffitis, tags, affiches et autocollants  \n",
       "1  Activités commerciales et professionnelles  \n",
       "2                           Mobiliers urbains  \n",
       "3                     Voirie et espace public  \n",
       "4                           Objets abandonnés  "
      ]
     },
     "execution_count": 13,
     "metadata": {},
     "output_type": "execute_result"
    }
   ],
   "source": [
    "data.head()"
   ]
  },
  {
   "cell_type": "markdown",
   "metadata": {},
   "source": [
    "# Nettoyage de la colonne cible"
   ]
  },
  {
   "cell_type": "code",
   "execution_count": 14,
   "metadata": {},
   "outputs": [],
   "source": [
    "import re\n",
    "\n",
    "\n",
    "def label_process(text):\n",
    "    #text=text.lower()\n",
    "    text = text = re.sub(r\"\\[|\\]\", \" \", text) # Je remplace/supprime les []\n",
    "    text = re.sub(r\"\\s+\", \" \", text) # Remplace toute séquence de plusieurs espaces (`\\s+`) par un seul espace\n",
    "    text.strip() # Supprime les espaces au début et à la fin de la chaîne\n",
    "    return text"
   ]
  },
  {
   "cell_type": "code",
   "execution_count": 15,
   "metadata": {},
   "outputs": [],
   "source": [
    "text=data['label'].apply(label_process)"
   ]
  },
  {
   "cell_type": "code",
   "execution_count": 16,
   "metadata": {},
   "outputs": [
    {
     "data": {
      "text/html": [
       "<div>\n",
       "<style scoped>\n",
       "    .dataframe tbody tr th:only-of-type {\n",
       "        vertical-align: middle;\n",
       "    }\n",
       "\n",
       "    .dataframe tbody tr th {\n",
       "        vertical-align: top;\n",
       "    }\n",
       "\n",
       "    .dataframe thead th {\n",
       "        text-align: right;\n",
       "    }\n",
       "</style>\n",
       "<table border=\"1\" class=\"dataframe\">\n",
       "  <thead>\n",
       "    <tr style=\"text-align: right;\">\n",
       "      <th></th>\n",
       "      <th>commentaire_usager</th>\n",
       "      <th>label</th>\n",
       "    </tr>\n",
       "  </thead>\n",
       "  <tbody>\n",
       "    <tr>\n",
       "      <th>0</th>\n",
       "      <td>Graffitis sur porte métallique (voir photos)</td>\n",
       "      <td>Graffitis, tags, affiches et autocollants</td>\n",
       "    </tr>\n",
       "    <tr>\n",
       "      <th>1</th>\n",
       "      <td>Annexion sauvage de 2 trottoirs sur 30metres ,...</td>\n",
       "      <td>Activités commerciales et professionnelles</td>\n",
       "    </tr>\n",
       "    <tr>\n",
       "      <th>2</th>\n",
       "      <td>Le grillage donnant sur les voies ferrées est ...</td>\n",
       "      <td>Mobiliers urbains</td>\n",
       "    </tr>\n",
       "    <tr>\n",
       "      <th>3</th>\n",
       "      <td>Autorisations sans cesse reportées depuis Août...</td>\n",
       "      <td>Voirie et espace public</td>\n",
       "    </tr>\n",
       "    <tr>\n",
       "      <th>4</th>\n",
       "      <td>Carton + sac</td>\n",
       "      <td>Objets abandonnés</td>\n",
       "    </tr>\n",
       "  </tbody>\n",
       "</table>\n",
       "</div>"
      ],
      "text/plain": [
       "                                  commentaire_usager  \\\n",
       "0       Graffitis sur porte métallique (voir photos)   \n",
       "1  Annexion sauvage de 2 trottoirs sur 30metres ,...   \n",
       "2  Le grillage donnant sur les voies ferrées est ...   \n",
       "3  Autorisations sans cesse reportées depuis Août...   \n",
       "4                                       Carton + sac   \n",
       "\n",
       "                                        label  \n",
       "0   Graffitis, tags, affiches et autocollants  \n",
       "1  Activités commerciales et professionnelles  \n",
       "2                           Mobiliers urbains  \n",
       "3                     Voirie et espace public  \n",
       "4                           Objets abandonnés  "
      ]
     },
     "execution_count": 16,
     "metadata": {},
     "output_type": "execute_result"
    }
   ],
   "source": [
    "df=pd.DataFrame({'commentaire_usager': data.commentaire_usager,'label':text})\n",
    "df.head()"
   ]
  },
  {
   "cell_type": "code",
   "execution_count": 12,
   "metadata": {},
   "outputs": [
    {
     "data": {
      "text/plain": [
       "array(['Graffitis, tags, affiches et autocollants',\n",
       "       'Activités commerciales et professionnelles', 'Mobiliers urbains',\n",
       "       'Voirie et espace public', 'Objets abandonnés', 'Propreté',\n",
       "       'Autos, motos, vélos, trottinettes...',\n",
       "       'Arbres, végétaux et animaux', 'Eau', 'Éclairage / Électricité',\n",
       "       'Autos, motos, vélos... '], dtype=object)"
      ]
     },
     "execution_count": 12,
     "metadata": {},
     "output_type": "execute_result"
    }
   ],
   "source": [
    "df.label.unique()"
   ]
  },
  {
   "cell_type": "code",
   "execution_count": 13,
   "metadata": {},
   "outputs": [],
   "source": [
    "df[df[\"label\"]=='Autos, motos, vélos... ']='Autos, motos, vélos, trottinettes...'"
   ]
  },
  {
   "cell_type": "code",
   "execution_count": 14,
   "metadata": {},
   "outputs": [
    {
     "data": {
      "text/plain": [
       "array(['Graffitis, tags, affiches et autocollants',\n",
       "       'Activités commerciales et professionnelles', 'Mobiliers urbains',\n",
       "       'Voirie et espace public', 'Objets abandonnés', 'Propreté',\n",
       "       'Autos, motos, vélos, trottinettes...',\n",
       "       'Arbres, végétaux et animaux', 'Eau', 'Éclairage / Électricité'],\n",
       "      dtype=object)"
      ]
     },
     "execution_count": 14,
     "metadata": {},
     "output_type": "execute_result"
    }
   ],
   "source": [
    "df.label.unique()"
   ]
  },
  {
   "cell_type": "code",
   "execution_count": 15,
   "metadata": {},
   "outputs": [
    {
     "data": {
      "text/plain": [
       "commentaire_usager    0\n",
       "label                 0\n",
       "dtype: int64"
      ]
     },
     "execution_count": 15,
     "metadata": {},
     "output_type": "execute_result"
    }
   ],
   "source": [
    "df.isna().sum()"
   ]
  },
  {
   "cell_type": "markdown",
   "metadata": {},
   "source": [
    "# Distribution de la colonne cible"
   ]
  },
  {
   "cell_type": "code",
   "execution_count": 16,
   "metadata": {},
   "outputs": [
    {
     "data": {
      "text/html": [
       "<div>\n",
       "<style scoped>\n",
       "    .dataframe tbody tr th:only-of-type {\n",
       "        vertical-align: middle;\n",
       "    }\n",
       "\n",
       "    .dataframe tbody tr th {\n",
       "        vertical-align: top;\n",
       "    }\n",
       "\n",
       "    .dataframe thead th {\n",
       "        text-align: right;\n",
       "    }\n",
       "</style>\n",
       "<table border=\"1\" class=\"dataframe\">\n",
       "  <thead>\n",
       "    <tr style=\"text-align: right;\">\n",
       "      <th></th>\n",
       "      <th>cible</th>\n",
       "      <th>value</th>\n",
       "    </tr>\n",
       "  </thead>\n",
       "  <tbody>\n",
       "    <tr>\n",
       "      <th>0</th>\n",
       "      <td>Objets abandonnés</td>\n",
       "      <td>314932</td>\n",
       "    </tr>\n",
       "    <tr>\n",
       "      <th>1</th>\n",
       "      <td>Propreté</td>\n",
       "      <td>202904</td>\n",
       "    </tr>\n",
       "    <tr>\n",
       "      <th>2</th>\n",
       "      <td>Graffitis, tags, affiches et autocollants</td>\n",
       "      <td>201240</td>\n",
       "    </tr>\n",
       "    <tr>\n",
       "      <th>3</th>\n",
       "      <td>Autos, motos, vélos, trottinettes...</td>\n",
       "      <td>171512</td>\n",
       "    </tr>\n",
       "    <tr>\n",
       "      <th>4</th>\n",
       "      <td>Activités commerciales et professionnelles</td>\n",
       "      <td>81523</td>\n",
       "    </tr>\n",
       "    <tr>\n",
       "      <th>5</th>\n",
       "      <td>Voirie et espace public</td>\n",
       "      <td>72845</td>\n",
       "    </tr>\n",
       "    <tr>\n",
       "      <th>6</th>\n",
       "      <td>Mobiliers urbains</td>\n",
       "      <td>43293</td>\n",
       "    </tr>\n",
       "    <tr>\n",
       "      <th>7</th>\n",
       "      <td>Arbres, végétaux et animaux</td>\n",
       "      <td>25804</td>\n",
       "    </tr>\n",
       "    <tr>\n",
       "      <th>8</th>\n",
       "      <td>Éclairage / Électricité</td>\n",
       "      <td>20366</td>\n",
       "    </tr>\n",
       "    <tr>\n",
       "      <th>9</th>\n",
       "      <td>Eau</td>\n",
       "      <td>10679</td>\n",
       "    </tr>\n",
       "  </tbody>\n",
       "</table>\n",
       "</div>"
      ],
      "text/plain": [
       "                                        cible   value\n",
       "0                           Objets abandonnés  314932\n",
       "1                                    Propreté  202904\n",
       "2   Graffitis, tags, affiches et autocollants  201240\n",
       "3        Autos, motos, vélos, trottinettes...  171512\n",
       "4  Activités commerciales et professionnelles   81523\n",
       "5                     Voirie et espace public   72845\n",
       "6                           Mobiliers urbains   43293\n",
       "7                 Arbres, végétaux et animaux   25804\n",
       "8                     Éclairage / Électricité   20366\n",
       "9                                         Eau   10679"
      ]
     },
     "execution_count": 16,
     "metadata": {},
     "output_type": "execute_result"
    }
   ],
   "source": [
    "count_label=df.label.value_counts()\n",
    "count_Viz=pd.DataFrame({\"cible\": count_label.index, \"value\": count_label.values})\n",
    "count_Viz.head(n=10)"
   ]
  },
  {
   "cell_type": "code",
   "execution_count": 17,
   "metadata": {},
   "outputs": [],
   "source": [
    "import os\n",
    "\n",
    "os.environ['no_proxy'] = \"10.185.33.168,localhost,127.0.0.0/8,192.168.0.0/16,10.0.0.0/8,.mdp\" \n",
    "\n",
    "os.environ['http_proxy'] = \"http://DMZ-PXSERVER.APPS.PARIS.MDP:8080/\"\n",
    "\n",
    "os.environ['htpps_proxy'] = \"http://DMZ-PXSERVER.APPS.PARIS.MDP:8080/\""
   ]
  },
  {
   "cell_type": "code",
   "execution_count": 18,
   "metadata": {},
   "outputs": [
    {
     "name": "stdout",
     "output_type": "stream",
     "text": [
      "\u001b[33mWARNING: Ignoring invalid distribution -ransformers (/home/val/.local/lib/python3.10/site-packages)\u001b[0m\u001b[33m\n",
      "\u001b[0m\u001b[33mWARNING: Ignoring invalid distribution -ransformers (/home/val/.local/lib/python3.10/site-packages)\u001b[0m\u001b[33m\n",
      "\u001b[0m\u001b[33mWARNING: Ignoring invalid distribution -ransformers (/home/val/.local/lib/python3.10/site-packages)\u001b[0m\u001b[33m\n",
      "\u001b[0m\u001b[33mWARNING: Ignoring invalid distribution -ransformers (/home/val/.local/lib/python3.10/site-packages)\u001b[0m\u001b[33m\n",
      "\u001b[0m\u001b[33mWARNING: Ignoring invalid distribution -ransformers (/home/val/.local/lib/python3.10/site-packages)\u001b[0m\u001b[33m\n",
      "\u001b[0m\u001b[33mWARNING: Ignoring invalid distribution -ransformers (/home/val/.local/lib/python3.10/site-packages)\u001b[0m\u001b[33m\n",
      "\u001b[0m"
     ]
    }
   ],
   "source": [
    "! pip install altair -q\n",
    "! pip install emoji -q"
   ]
  },
  {
   "cell_type": "code",
   "execution_count": 19,
   "metadata": {},
   "outputs": [
    {
     "data": {
      "text/html": [
       "\n",
       "<style>\n",
       "  #altair-viz-204181ecb73b45e6aff5d5b488185bb2.vega-embed {\n",
       "    width: 100%;\n",
       "    display: flex;\n",
       "  }\n",
       "\n",
       "  #altair-viz-204181ecb73b45e6aff5d5b488185bb2.vega-embed details,\n",
       "  #altair-viz-204181ecb73b45e6aff5d5b488185bb2.vega-embed details summary {\n",
       "    position: relative;\n",
       "  }\n",
       "</style>\n",
       "<div id=\"altair-viz-204181ecb73b45e6aff5d5b488185bb2\"></div>\n",
       "<script type=\"text/javascript\">\n",
       "  var VEGA_DEBUG = (typeof VEGA_DEBUG == \"undefined\") ? {} : VEGA_DEBUG;\n",
       "  (function(spec, embedOpt){\n",
       "    let outputDiv = document.currentScript.previousElementSibling;\n",
       "    if (outputDiv.id !== \"altair-viz-204181ecb73b45e6aff5d5b488185bb2\") {\n",
       "      outputDiv = document.getElementById(\"altair-viz-204181ecb73b45e6aff5d5b488185bb2\");\n",
       "    }\n",
       "    const paths = {\n",
       "      \"vega\": \"https://cdn.jsdelivr.net/npm/vega@5?noext\",\n",
       "      \"vega-lib\": \"https://cdn.jsdelivr.net/npm/vega-lib?noext\",\n",
       "      \"vega-lite\": \"https://cdn.jsdelivr.net/npm/vega-lite@5.17.0?noext\",\n",
       "      \"vega-embed\": \"https://cdn.jsdelivr.net/npm/vega-embed@6?noext\",\n",
       "    };\n",
       "\n",
       "    function maybeLoadScript(lib, version) {\n",
       "      var key = `${lib.replace(\"-\", \"\")}_version`;\n",
       "      return (VEGA_DEBUG[key] == version) ?\n",
       "        Promise.resolve(paths[lib]) :\n",
       "        new Promise(function(resolve, reject) {\n",
       "          var s = document.createElement('script');\n",
       "          document.getElementsByTagName(\"head\")[0].appendChild(s);\n",
       "          s.async = true;\n",
       "          s.onload = () => {\n",
       "            VEGA_DEBUG[key] = version;\n",
       "            return resolve(paths[lib]);\n",
       "          };\n",
       "          s.onerror = () => reject(`Error loading script: ${paths[lib]}`);\n",
       "          s.src = paths[lib];\n",
       "        });\n",
       "    }\n",
       "\n",
       "    function showError(err) {\n",
       "      outputDiv.innerHTML = `<div class=\"error\" style=\"color:red;\">${err}</div>`;\n",
       "      throw err;\n",
       "    }\n",
       "\n",
       "    function displayChart(vegaEmbed) {\n",
       "      vegaEmbed(outputDiv, spec, embedOpt)\n",
       "        .catch(err => showError(`Javascript Error: ${err.message}<br>This usually means there's a typo in your chart specification. See the javascript console for the full traceback.`));\n",
       "    }\n",
       "\n",
       "    if(typeof define === \"function\" && define.amd) {\n",
       "      requirejs.config({paths});\n",
       "      require([\"vega-embed\"], displayChart, err => showError(`Error loading script: ${err.message}`));\n",
       "    } else {\n",
       "      maybeLoadScript(\"vega\", \"5\")\n",
       "        .then(() => maybeLoadScript(\"vega-lite\", \"5.17.0\"))\n",
       "        .then(() => maybeLoadScript(\"vega-embed\", \"6\"))\n",
       "        .catch(showError)\n",
       "        .then(() => displayChart(vegaEmbed));\n",
       "    }\n",
       "  })({\"config\": {\"view\": {\"continuousWidth\": 300, \"continuousHeight\": 300}}, \"data\": {\"name\": \"data-8724d167cabd18cdfd22bac80ae235cc\"}, \"mark\": {\"type\": \"bar\"}, \"encoding\": {\"color\": {\"field\": \"cible\", \"type\": \"nominal\"}, \"tooltip\": [{\"field\": \"cible\", \"type\": \"nominal\"}, {\"field\": \"value\", \"type\": \"quantitative\"}], \"x\": {\"field\": \"cible\", \"type\": \"nominal\"}, \"y\": {\"field\": \"value\", \"type\": \"quantitative\"}}, \"height\": 400, \"params\": [{\"name\": \"param_1\", \"select\": {\"type\": \"interval\", \"encodings\": [\"x\", \"y\"]}, \"bind\": \"scales\"}], \"title\": \"Distribution des Classes\", \"width\": 500, \"$schema\": \"https://vega.github.io/schema/vega-lite/v5.17.0.json\", \"datasets\": {\"data-8724d167cabd18cdfd22bac80ae235cc\": [{\"cible\": \"Objets abandonn\\u00e9s\", \"value\": 314932}, {\"cible\": \"Propret\\u00e9\", \"value\": 202904}, {\"cible\": \"Graffitis, tags, affiches et autocollants\", \"value\": 201240}, {\"cible\": \"Autos, motos, v\\u00e9los, trottinettes...\", \"value\": 171512}, {\"cible\": \"Activit\\u00e9s commerciales et professionnelles\", \"value\": 81523}, {\"cible\": \"Voirie et espace public\", \"value\": 72845}, {\"cible\": \"Mobiliers urbains\", \"value\": 43293}, {\"cible\": \"Arbres, v\\u00e9g\\u00e9taux et animaux\", \"value\": 25804}, {\"cible\": \"\\u00c9clairage / \\u00c9lectricit\\u00e9\", \"value\": 20366}, {\"cible\": \"Eau\", \"value\": 10679}]}}, {\"mode\": \"vega-lite\"});\n",
       "</script>"
      ],
      "text/plain": [
       "alt.Chart(...)"
      ]
     },
     "metadata": {},
     "output_type": "display_data"
    }
   ],
   "source": [
    "import altair as alt\n",
    "\n",
    "chart=alt.Chart(count_Viz).mark_bar().encode(\n",
    "    x='cible:N',\n",
    "    y='value:Q',\n",
    "    color=alt.Color(\"cible:N\"),\n",
    "    tooltip=['cible:N', 'value:Q'] \n",
    ").properties(\n",
    "    width=500,\n",
    "    height=400,\n",
    "    title=\"Distribution des Classes\"\n",
    ").interactive()\n",
    "\n",
    "chart.display()"
   ]
  },
  {
   "cell_type": "markdown",
   "metadata": {},
   "source": [
    "# Nettoyage des commentaires"
   ]
  },
  {
   "cell_type": "code",
   "execution_count": 20,
   "metadata": {},
   "outputs": [],
   "source": [
    "import emoji"
   ]
  },
  {
   "cell_type": "code",
   "execution_count": 21,
   "metadata": {},
   "outputs": [],
   "source": [
    "# Je définis une liste de stopwords à supprimer lors de mon preprocessing\n",
    "stop_words = set([\n",
    "    'alors', 'au', 'aucuns', 'aussi', 'autre', 'avant', 'avec', 'avoir', 'bon', 'car', 'ce', 'cela', 'ces', 'ceux', \n",
    "    'chaque', 'ci', 'comme', 'comment', 'dans', 'des', 'du', 'dedans', 'dehors', 'depuis', 'devrait', 'doit', 'donc', \n",
    "    'dos', 'début', 'elle', 'elles', 'en', 'encore', 'essai', 'est', 'et', 'eu', 'fait', 'faites', 'fois', 'font', \n",
    "    'hors', 'ici', 'il', 'ils', 'je', 'juste', 'la', 'le', 'les', 'leur', 'là', 'ma', 'maintenant', 'mais', 'mes', \n",
    "    'mine', 'moins', 'mon', 'mot', 'même', 'ni', 'nommés', 'notre', 'nous', 'nouveaux', 'ou', 'où', 'par', 'parce', \n",
    "    'pas', 'peut', 'peu', 'plupart', 'pour', 'pourquoi', 'quand', 'que', 'quel', 'quelle', 'quelles', 'quels', 'qui', \n",
    "    'sa', 'sans', 'ses', 'seulement', 'si', 'sien', 'son', 'sont', 'sous', 'soyez', 'sujet', 'sur', 'ta', 'tandis', \n",
    "    'tellement', 'tels', 'tes', 'ton', 'tous', 'tout', 'trop', 'très', 'tu', 'valeur','vont', \n",
    "    'votre', 'vous', 'vu', 'ça', 'étaient', 'état', 'étions', 'été', 'être'\n",
    "])\n",
    "\n",
    "# Supprimer les URL mais pas necessaire je pense.\n",
    "# text = re.sub(r'http\\S+|www\\S+|https\\S+', '', text, flags=re.MULTILINE)\n",
    "\n",
    "# Fonction de prétraitement améliorée\n",
    "def preprocess(text):\n",
    "    if isinstance(text, str):\n",
    "        # Remplacer les caractères spéciaux et les chiffres par des espaces\n",
    "        text = text.lower()\n",
    "        text = re.sub(r'[!@#$(),\\n\"%^*?\\:;~`0-9]', \" \", text)\n",
    "        # Remplacer les crochets par des espaces\n",
    "        text = re.sub(r\"\\[|\\]\", \" \", text)\n",
    "        # Supprimer les espaces multiples\n",
    "        text = re.sub(r'\\s+', ' ', text).strip()\n",
    "        # Je supprime les emoji | remplacer avec leur description en français\n",
    "        text=emoji.demojize(text, language=\"fr\")\n",
    "        # Si on a plusieurs emojis, les descriptions sont séparées avec des '_' .Je remplace les underscores avec des espaces \n",
    "        text = text.replace('/', ' ').replace('\\\\', ' ').replace('||', ' ').replace('_', ' ').replace('-', ' ').replace('+',' ')\n",
    "        # Supprimer les mots vides\n",
    "        text=' '.join([word for word in text.split() if word not in stop_words])\n",
    "\n",
    "    return text\n",
    "# Appliquer la fonction de prétraitement à toute la colonne 'commentaire_usager'\n",
    "df['commentaire_usager'] = df['commentaire_usager'].apply(lambda x: preprocess(x))"
   ]
  },
  {
   "cell_type": "code",
   "execution_count": 22,
   "metadata": {},
   "outputs": [
    {
     "data": {
      "text/plain": [
       "(1145098, 2)"
      ]
     },
     "execution_count": 22,
     "metadata": {},
     "output_type": "execute_result"
    }
   ],
   "source": [
    "df.shape"
   ]
  },
  {
   "cell_type": "code",
   "execution_count": 23,
   "metadata": {},
   "outputs": [
    {
     "name": "stdout",
     "output_type": "stream",
     "text": [
      "\u001b[33mWARNING: Ignoring invalid distribution -ransformers (/home/val/.local/lib/python3.10/site-packages)\u001b[0m\u001b[33m\n",
      "\u001b[0m\u001b[33mWARNING: Ignoring invalid distribution -ransformers (/home/val/.local/lib/python3.10/site-packages)\u001b[0m\u001b[33m\n",
      "\u001b[0m\u001b[33mWARNING: Ignoring invalid distribution -ransformers (/home/val/.local/lib/python3.10/site-packages)\u001b[0m\u001b[33m\n",
      "\u001b[0m"
     ]
    }
   ],
   "source": [
    "! pip install nltk -q"
   ]
  },
  {
   "cell_type": "code",
   "execution_count": 24,
   "metadata": {},
   "outputs": [
    {
     "name": "stderr",
     "output_type": "stream",
     "text": [
      "[nltk_data] Downloading package punkt to /home/val/nltk_data...\n",
      "[nltk_data]   Package punkt is already up-to-date!\n",
      "[nltk_data] Downloading package wordnet to /home/val/nltk_data...\n",
      "[nltk_data]   Package wordnet is already up-to-date!\n",
      "[nltk_data] Downloading package stopwords to /home/val/nltk_data...\n",
      "[nltk_data]   Package stopwords is already up-to-date!\n"
     ]
    }
   ],
   "source": [
    "import nltk\n",
    "from nltk import word_tokenize\n",
    "from nltk.corpus import stopwords\n",
    "from nltk.stem import WordNetLemmatizer\n",
    "\n",
    "nltk.download('punkt')\n",
    "nltk.download('wordnet')\n",
    "nltk.download('stopwords')\n",
    "\n",
    "# Initialisation des outils NLTK\n",
    "# stop_words = set(stopwords.words('french'))\n",
    "lemmatizer = WordNetLemmatizer()"
   ]
  },
  {
   "cell_type": "code",
   "execution_count": 25,
   "metadata": {},
   "outputs": [],
   "source": [
    "def apply_lemmatization(text):\n",
    "    return ' '.join([lemmatizer.lemmatize(word) for word in text.split()])"
   ]
  },
  {
   "cell_type": "code",
   "execution_count": 26,
   "metadata": {},
   "outputs": [],
   "source": [
    "df['commentaire_usager'] = df['commentaire_usager'].apply(apply_lemmatization)"
   ]
  },
  {
   "cell_type": "code",
   "execution_count": 27,
   "metadata": {},
   "outputs": [
    {
     "data": {
      "text/plain": [
       "Index(['commentaire_usager', 'label'], dtype='object')"
      ]
     },
     "execution_count": 27,
     "metadata": {},
     "output_type": "execute_result"
    }
   ],
   "source": [
    "df.columns"
   ]
  },
  {
   "cell_type": "code",
   "execution_count": 28,
   "metadata": {},
   "outputs": [],
   "source": [
    "df.to_csv(\"dmr_NoEncode.csv\",index=False, sep=\";\")"
   ]
  },
  {
   "cell_type": "markdown",
   "metadata": {},
   "source": [
    "# **Encode la variable cible**"
   ]
  },
  {
   "cell_type": "code",
   "execution_count": null,
   "metadata": {},
   "outputs": [],
   "source": [
    "from sklearn.preprocessing import LabelEncoder\n",
    "le = LabelEncoder()\n",
    "y =df['label']\n",
    "y_encode = le.fit_transform(y)"
   ]
  },
  {
   "cell_type": "code",
   "execution_count": 30,
   "metadata": {},
   "outputs": [
    {
     "data": {
      "text/plain": [
       "array([4, 0, 5, ..., 7, 4, 6])"
      ]
     },
     "execution_count": 30,
     "metadata": {},
     "output_type": "execute_result"
    }
   ],
   "source": [
    "y_encode"
   ]
  },
  {
   "cell_type": "code",
   "execution_count": 31,
   "metadata": {},
   "outputs": [
    {
     "data": {
      "text/plain": [
       "array(['Graffitis, tags, affiches et autocollants',\n",
       "       'Activités commerciales et professionnelles', 'Mobiliers urbains',\n",
       "       ..., 'Propreté', 'Graffitis, tags, affiches et autocollants',\n",
       "       'Objets abandonnés'], dtype=object)"
      ]
     },
     "execution_count": 31,
     "metadata": {},
     "output_type": "execute_result"
    }
   ],
   "source": [
    "le.inverse_transform(y_encode)"
   ]
  },
  {
   "cell_type": "code",
   "execution_count": 32,
   "metadata": {},
   "outputs": [
    {
     "data": {
      "text/plain": [
       "array(['Activités commerciales et professionnelles',\n",
       "       'Arbres, végétaux et animaux',\n",
       "       'Autos, motos, vélos, trottinettes...', 'Eau',\n",
       "       'Graffitis, tags, affiches et autocollants', 'Mobiliers urbains',\n",
       "       'Objets abandonnés', 'Propreté', 'Voirie et espace public',\n",
       "       'Éclairage / Électricité'], dtype=object)"
      ]
     },
     "execution_count": 32,
     "metadata": {},
     "output_type": "execute_result"
    }
   ],
   "source": [
    "le.classes_"
   ]
  },
  {
   "cell_type": "markdown",
   "metadata": {},
   "source": [
    "## **Mapping true Label en Label Encoding**"
   ]
  },
  {
   "cell_type": "code",
   "execution_count": 33,
   "metadata": {},
   "outputs": [
    {
     "data": {
      "text/plain": [
       "{0: 'Activités commerciales et professionnelles',\n",
       " 1: 'Arbres, végétaux et animaux',\n",
       " 2: 'Autos, motos, vélos, trottinettes...',\n",
       " 3: 'Eau',\n",
       " 4: 'Graffitis, tags, affiches et autocollants',\n",
       " 5: 'Mobiliers urbains',\n",
       " 6: 'Objets abandonnés',\n",
       " 7: 'Propreté',\n",
       " 8: 'Voirie et espace public',\n",
       " 9: 'Éclairage / Électricité'}"
      ]
     },
     "execution_count": 33,
     "metadata": {},
     "output_type": "execute_result"
    }
   ],
   "source": [
    "label_mapping = {encoded_value: original_label for encoded_value, original_label in zip(y_encode,y )}\n",
    "label_mapping = dict(sorted(label_mapping.items()))\n",
    "label_mapping"
   ]
  },
  {
   "cell_type": "code",
   "execution_count": 34,
   "metadata": {},
   "outputs": [],
   "source": [
    "df_encode=pd.DataFrame({'commentaire_usager': df.commentaire_usager,'label':y_encode})"
   ]
  },
  {
   "cell_type": "code",
   "execution_count": 35,
   "metadata": {},
   "outputs": [
    {
     "data": {
      "text/html": [
       "<div>\n",
       "<style scoped>\n",
       "    .dataframe tbody tr th:only-of-type {\n",
       "        vertical-align: middle;\n",
       "    }\n",
       "\n",
       "    .dataframe tbody tr th {\n",
       "        vertical-align: top;\n",
       "    }\n",
       "\n",
       "    .dataframe thead th {\n",
       "        text-align: right;\n",
       "    }\n",
       "</style>\n",
       "<table border=\"1\" class=\"dataframe\">\n",
       "  <thead>\n",
       "    <tr style=\"text-align: right;\">\n",
       "      <th></th>\n",
       "      <th>commentaire_usager</th>\n",
       "      <th>label</th>\n",
       "    </tr>\n",
       "  </thead>\n",
       "  <tbody>\n",
       "    <tr>\n",
       "      <th>0</th>\n",
       "      <td>graffiti porte métallique voir photo</td>\n",
       "      <td>4</td>\n",
       "    </tr>\n",
       "    <tr>\n",
       "      <th>1</th>\n",
       "      <td>annexion sauvage de trottoirs metre vente d’al...</td>\n",
       "      <td>0</td>\n",
       "    </tr>\n",
       "    <tr>\n",
       "      <th>2</th>\n",
       "      <td>grillage donnant voies ferrées abîmé un enfant...</td>\n",
       "      <td>5</td>\n",
       "    </tr>\n",
       "    <tr>\n",
       "      <th>3</th>\n",
       "      <td>autorisations cesse reportées août d'une impor...</td>\n",
       "      <td>8</td>\n",
       "    </tr>\n",
       "    <tr>\n",
       "      <th>4</th>\n",
       "      <td>carton sac</td>\n",
       "      <td>6</td>\n",
       "    </tr>\n",
       "  </tbody>\n",
       "</table>\n",
       "</div>"
      ],
      "text/plain": [
       "                                  commentaire_usager  label\n",
       "0               graffiti porte métallique voir photo      4\n",
       "1  annexion sauvage de trottoirs metre vente d’al...      0\n",
       "2  grillage donnant voies ferrées abîmé un enfant...      5\n",
       "3  autorisations cesse reportées août d'une impor...      8\n",
       "4                                         carton sac      6"
      ]
     },
     "execution_count": 35,
     "metadata": {},
     "output_type": "execute_result"
    }
   ],
   "source": [
    "df_encode.head()"
   ]
  },
  {
   "cell_type": "code",
   "execution_count": 36,
   "metadata": {},
   "outputs": [],
   "source": [
    "df_encode.to_csv(\"dmr_encode.csv\",index=False, sep=\";\")"
   ]
  },
  {
   "cell_type": "code",
   "execution_count": 37,
   "metadata": {},
   "outputs": [
    {
     "data": {
      "text/plain": [
       "77184.0"
      ]
     },
     "execution_count": 37,
     "metadata": {},
     "output_type": "execute_result"
    }
   ],
   "source": [
    "# Calculer la distribution des classes\n",
    "class_distribution = df_encode['label'].value_counts()\n",
    "\n",
    "# Taille mediane de a distribution des classes\n",
    "mediane_class_size = class_distribution.median()\n",
    "mediane_class_size"
   ]
  },
  {
   "cell_type": "markdown",
   "metadata": {},
   "source": [
    "# Sur-échantillonage"
   ]
  },
  {
   "cell_type": "code",
   "execution_count": 38,
   "metadata": {},
   "outputs": [
    {
     "name": "stdout",
     "output_type": "stream",
     "text": [
      "\u001b[33mWARNING: Ignoring invalid distribution -ransformers (/home/val/.local/lib/python3.10/site-packages)\u001b[0m\u001b[33m\n",
      "\u001b[0m\u001b[33mWARNING: Ignoring invalid distribution -ransformers (/home/val/.local/lib/python3.10/site-packages)\u001b[0m\u001b[33m\n",
      "\u001b[0m\u001b[33mWARNING: Ignoring invalid distribution -ransformers (/home/val/.local/lib/python3.10/site-packages)\u001b[0m\u001b[33m\n",
      "\u001b[0mDefaulting to user installation because normal site-packages is not writeable\n",
      "\u001b[33mWARNING: Ignoring invalid distribution -ransformers (/home/val/.local/lib/python3.10/site-packages)\u001b[0m\u001b[33m\n",
      "\u001b[0m\u001b[33mWARNING: Ignoring invalid distribution -ransformers (/home/val/.local/lib/python3.10/site-packages)\u001b[0m\u001b[33m\n",
      "\u001b[0mRequirement already satisfied: transformers in /home/val/.local/lib/python3.10/site-packages (4.45.1)\n",
      "Requirement already satisfied: torch in /home/val/.local/lib/python3.10/site-packages (2.4.1)\n",
      "Requirement already satisfied: requests in /home/val/.local/lib/python3.10/site-packages (from transformers) (2.32.3)\n",
      "Requirement already satisfied: safetensors>=0.4.1 in /home/val/.local/lib/python3.10/site-packages (from transformers) (0.4.5)\n",
      "Requirement already satisfied: numpy>=1.17 in /home/val/.local/lib/python3.10/site-packages (from transformers) (1.26.4)\n",
      "Requirement already satisfied: huggingface-hub<1.0,>=0.23.2 in /home/val/.local/lib/python3.10/site-packages (from transformers) (0.25.1)\n",
      "Requirement already satisfied: regex!=2019.12.17 in /home/val/.local/lib/python3.10/site-packages (from transformers) (2023.12.25)\n",
      "Requirement already satisfied: pyyaml>=5.1 in /home/val/.local/lib/python3.10/site-packages (from transformers) (6.0.2)\n",
      "Requirement already satisfied: packaging>=20.0 in /home/val/.local/lib/python3.10/site-packages (from transformers) (24.1)\n",
      "Requirement already satisfied: filelock in /home/val/.local/lib/python3.10/site-packages (from transformers) (3.13.1)\n",
      "Requirement already satisfied: tokenizers<0.21,>=0.20 in /home/val/.local/lib/python3.10/site-packages (from transformers) (0.20.0)\n",
      "Requirement already satisfied: tqdm>=4.27 in /home/val/.local/lib/python3.10/site-packages (from transformers) (4.66.5)\n",
      "Requirement already satisfied: nvidia-curand-cu12==10.3.2.106 in /home/val/.local/lib/python3.10/site-packages (from torch) (10.3.2.106)\n",
      "Requirement already satisfied: nvidia-cudnn-cu12==9.1.0.70 in /home/val/.local/lib/python3.10/site-packages (from torch) (9.1.0.70)\n",
      "Requirement already satisfied: nvidia-cuda-runtime-cu12==12.1.105 in /home/val/.local/lib/python3.10/site-packages (from torch) (12.1.105)\n",
      "Requirement already satisfied: nvidia-nvtx-cu12==12.1.105 in /home/val/.local/lib/python3.10/site-packages (from torch) (12.1.105)\n",
      "Requirement already satisfied: nvidia-cublas-cu12==12.1.3.1 in /home/val/.local/lib/python3.10/site-packages (from torch) (12.1.3.1)\n",
      "Requirement already satisfied: nvidia-cuda-nvrtc-cu12==12.1.105 in /home/val/.local/lib/python3.10/site-packages (from torch) (12.1.105)\n",
      "Requirement already satisfied: sympy in /home/val/.local/lib/python3.10/site-packages (from torch) (1.12)\n",
      "Requirement already satisfied: nvidia-cufft-cu12==11.0.2.54 in /home/val/.local/lib/python3.10/site-packages (from torch) (11.0.2.54)\n",
      "Requirement already satisfied: nvidia-cusolver-cu12==11.4.5.107 in /home/val/.local/lib/python3.10/site-packages (from torch) (11.4.5.107)\n",
      "Requirement already satisfied: nvidia-nccl-cu12==2.20.5 in /home/val/.local/lib/python3.10/site-packages (from torch) (2.20.5)\n",
      "Requirement already satisfied: typing-extensions>=4.8.0 in /home/val/.local/lib/python3.10/site-packages (from torch) (4.12.2)\n",
      "Requirement already satisfied: fsspec in /home/val/.local/lib/python3.10/site-packages (from torch) (2024.2.0)\n",
      "Requirement already satisfied: triton==3.0.0 in /home/val/.local/lib/python3.10/site-packages (from torch) (3.0.0)\n",
      "Requirement already satisfied: nvidia-cusparse-cu12==12.1.0.106 in /home/val/.local/lib/python3.10/site-packages (from torch) (12.1.0.106)\n",
      "Requirement already satisfied: jinja2 in /home/val/.local/lib/python3.10/site-packages (from torch) (3.1.4)\n",
      "Requirement already satisfied: nvidia-cuda-cupti-cu12==12.1.105 in /home/val/.local/lib/python3.10/site-packages (from torch) (12.1.105)\n",
      "Requirement already satisfied: networkx in /home/val/.local/lib/python3.10/site-packages (from torch) (3.2.1)\n",
      "Requirement already satisfied: nvidia-nvjitlink-cu12 in /home/val/.local/lib/python3.10/site-packages (from nvidia-cusolver-cu12==11.4.5.107->torch) (12.3.101)\n",
      "Requirement already satisfied: MarkupSafe>=2.0 in /home/val/.local/lib/python3.10/site-packages (from jinja2->torch) (2.1.5)\n",
      "Requirement already satisfied: certifi>=2017.4.17 in /usr/lib/python3/dist-packages (from requests->transformers) (2020.6.20)\n",
      "Requirement already satisfied: urllib3<3,>=1.21.1 in /home/val/.local/lib/python3.10/site-packages (from requests->transformers) (2.2.2)\n",
      "Requirement already satisfied: charset-normalizer<4,>=2 in /home/val/.local/lib/python3.10/site-packages (from requests->transformers) (3.3.2)\n",
      "Requirement already satisfied: idna<4,>=2.5 in /usr/lib/python3/dist-packages (from requests->transformers) (3.3)\n",
      "Requirement already satisfied: mpmath>=0.19 in /home/val/.local/lib/python3.10/site-packages (from sympy->torch) (1.3.0)\n",
      "\u001b[33mWARNING: Ignoring invalid distribution -ransformers (/home/val/.local/lib/python3.10/site-packages)\u001b[0m\u001b[33m\n",
      "\u001b[0m"
     ]
    }
   ],
   "source": [
    "! pip install imblearn -q\n",
    "! pip install transformers torch "
   ]
  },
  {
   "cell_type": "code",
   "execution_count": 39,
   "metadata": {},
   "outputs": [],
   "source": [
    "import sklearn\n",
    "import imblearn\n",
    "import transformers\n",
    "import torch"
   ]
  },
  {
   "cell_type": "code",
   "execution_count": 40,
   "metadata": {},
   "outputs": [],
   "source": [
    "from sklearn.feature_extraction.text import TfidfVectorizer\n",
    "from imblearn.over_sampling import SMOTE\n",
    "from transformers import CamembertTokenizer, CamembertForMaskedLM"
   ]
  },
  {
   "cell_type": "code",
   "execution_count": 47,
   "metadata": {},
   "outputs": [],
   "source": [
    "texts=df_encode.commentaire_usager\n",
    "labels=df_encode.label"
   ]
  },
  {
   "cell_type": "code",
   "execution_count": 48,
   "metadata": {},
   "outputs": [
    {
     "data": {
      "text/plain": [
       "0                       graffiti porte métallique voir photo\n",
       "1          annexion sauvage de trottoirs metre vente d’al...\n",
       "2          grillage donnant voies ferrées abîmé un enfant...\n",
       "3          autorisations cesse reportées août d'une impor...\n",
       "4                                                 carton sac\n",
       "                                 ...                        \n",
       "2135394                                                   up\n",
       "2135399    a h client hurlent terrasse estivales ne sembl...\n",
       "2135401                                                rqgab\n",
       "2135408                                              rqam gl\n",
       "2135410    on continue paris poubelle paté de maison. se ...\n",
       "Name: commentaire_usager, Length: 1145098, dtype: object"
      ]
     },
     "execution_count": 48,
     "metadata": {},
     "output_type": "execute_result"
    }
   ],
   "source": [
    "texts"
   ]
  },
  {
   "cell_type": "code",
   "execution_count": null,
   "metadata": {},
   "outputs": [],
   "source": [
    "vectorizer = TfidfVectorizer(\n",
    "    ngram_range=(1, 1),  # Inclut les unigrams / bigrams pour capturer plus de contexte\n",
    "    max_df=0.95,         # Ignore les termes qui apparaissent dans plus de 95% des documents\n",
    "    min_df=2,            # Ignore les termes qui apparaissent dans moins de 2 documents\n",
    "    max_features=5000,   # Limite le nombre de caractéristiques à 5000 pour réduire la dimensionnalité\n",
    "    sublinear_tf=True,   # Applique une transformation logarithmique aux fréquences des termes\n",
    "    smooth_idf=True      # Lisse les valeurs d'IDF pour éviter les divisions par zéro et stabiliser les poids TF-IDF\n",
    ")\n",
    "X = vectorizer.fit_transform(texts)"
   ]
  },
  {
   "cell_type": "code",
   "execution_count": 53,
   "metadata": {},
   "outputs": [
    {
     "name": "stdout",
     "output_type": "stream",
     "text": [
      "    aa  aac  aagv  aama  aandonne  aangle  aarcade  aaron  aarpi  aarrache  \\\n",
      "0  0.0  0.0   0.0   0.0       0.0     0.0      0.0    0.0    0.0       0.0   \n",
      "1  0.0  0.0   0.0   0.0       0.0     0.0      0.0    0.0    0.0       0.0   \n",
      "2  0.0  0.0   0.0   0.0       0.0     0.0      0.0    0.0    0.0       0.0   \n",
      "3  0.0  0.0   0.0   0.0       0.0     0.0      0.0    0.0    0.0       0.0   \n",
      "4  0.0  0.0   0.0   0.0       0.0     0.0      0.0    0.0    0.0       0.0   \n",
      "5  0.0  0.0   0.0   0.0       0.0     0.0      0.0    0.0    0.0       0.0   \n",
      "6  0.0  0.0   0.0   0.0       0.0     0.0      0.0    0.0    0.0       0.0   \n",
      "7  0.0  0.0   0.0   0.0       0.0     0.0      0.0    0.0    0.0       0.0   \n",
      "8  0.0  0.0   0.0   0.0       0.0     0.0      0.0    0.0    0.0       0.0   \n",
      "9  0.0  0.0   0.0   0.0       0.0     0.0      0.0    0.0    0.0       0.0   \n",
      "\n",
      "   aas  aathviva  aave  aazswrnkhr   ab  aba  ababdonee  abaca  abadi  abadie  \n",
      "0  0.0       0.0   0.0         0.0  0.0  0.0        0.0    0.0    0.0     0.0  \n",
      "1  0.0       0.0   0.0         0.0  0.0  0.0        0.0    0.0    0.0     0.0  \n",
      "2  0.0       0.0   0.0         0.0  0.0  0.0        0.0    0.0    0.0     0.0  \n",
      "3  0.0       0.0   0.0         0.0  0.0  0.0        0.0    0.0    0.0     0.0  \n",
      "4  0.0       0.0   0.0         0.0  0.0  0.0        0.0    0.0    0.0     0.0  \n",
      "5  0.0       0.0   0.0         0.0  0.0  0.0        0.0    0.0    0.0     0.0  \n",
      "6  0.0       0.0   0.0         0.0  0.0  0.0        0.0    0.0    0.0     0.0  \n",
      "7  0.0       0.0   0.0         0.0  0.0  0.0        0.0    0.0    0.0     0.0  \n",
      "8  0.0       0.0   0.0         0.0  0.0  0.0        0.0    0.0    0.0     0.0  \n",
      "9  0.0       0.0   0.0         0.0  0.0  0.0        0.0    0.0    0.0     0.0  \n"
     ]
    }
   ],
   "source": [
    "num_rows_to_display = 10  # Nombre de lignes à afficher\n",
    "num_cols_to_display = 20  # Nombre de colonnes à afficher\n",
    "\n",
    "df_tfidf_preview = pd.DataFrame(X[:num_rows_to_display].toarray()[:, :num_cols_to_display], \n",
    "                                columns=vectorizer.get_feature_names_out()[:num_cols_to_display])\n",
    "print(df_tfidf_preview)"
   ]
  },
  {
   "cell_type": "code",
   "execution_count": 55,
   "metadata": {},
   "outputs": [
    {
     "data": {
      "text/plain": [
       "(1145098, 5000)"
      ]
     },
     "execution_count": 55,
     "metadata": {},
     "output_type": "execute_result"
    }
   ],
   "source": [
    "X.shape"
   ]
  },
  {
   "cell_type": "markdown",
   "metadata": {
    "vscode": {
     "languageId": "raw"
    }
   },
   "source": [
    "## Application de SMOTE"
   ]
  },
  {
   "cell_type": "code",
   "execution_count": 56,
   "metadata": {},
   "outputs": [],
   "source": [
    "smote = SMOTE()\n",
    "X_resampled, y_resampled = smote.fit_resample(X, labels)"
   ]
  },
  {
   "cell_type": "markdown",
   "metadata": {},
   "source": [
    "Conversion des vecteurs en textes (optionnel, pour inspection) avec inverse transform"
   ]
  },
  {
   "cell_type": "code",
   "execution_count": 57,
   "metadata": {},
   "outputs": [],
   "source": [
    "\n",
    "texts_resampled = vectorizer.inverse_transform(X_resampled)"
   ]
  },
  {
   "cell_type": "code",
   "execution_count": 58,
   "metadata": {},
   "outputs": [],
   "source": [
    "df_resampled = pd.DataFrame({'commentaire_usager': [' '.join(text) for text in texts_resampled], 'label': y_resampled})"
   ]
  },
  {
   "cell_type": "code",
   "execution_count": 59,
   "metadata": {},
   "outputs": [
    {
     "data": {
      "text/html": [
       "<div>\n",
       "<style scoped>\n",
       "    .dataframe tbody tr th:only-of-type {\n",
       "        vertical-align: middle;\n",
       "    }\n",
       "\n",
       "    .dataframe tbody tr th {\n",
       "        vertical-align: top;\n",
       "    }\n",
       "\n",
       "    .dataframe thead th {\n",
       "        text-align: right;\n",
       "    }\n",
       "</style>\n",
       "<table border=\"1\" class=\"dataframe\">\n",
       "  <thead>\n",
       "    <tr style=\"text-align: right;\">\n",
       "      <th></th>\n",
       "      <th>commentaire_usager</th>\n",
       "      <th>label</th>\n",
       "    </tr>\n",
       "  </thead>\n",
       "  <tbody>\n",
       "    <tr>\n",
       "      <th>0</th>\n",
       "      <td>graffiti porte métallique voir photo</td>\n",
       "      <td>4</td>\n",
       "    </tr>\n",
       "    <tr>\n",
       "      <th>1</th>\n",
       "      <td>sauvage de trottoirs metre vente alcool autori...</td>\n",
       "      <td>0</td>\n",
       "    </tr>\n",
       "    <tr>\n",
       "      <th>2</th>\n",
       "      <td>de grillage donnant voies abîmé un enfant pass...</td>\n",
       "      <td>5</td>\n",
       "    </tr>\n",
       "    <tr>\n",
       "      <th>3</th>\n",
       "      <td>autorisations cesse août une importante empris...</td>\n",
       "      <td>8</td>\n",
       "    </tr>\n",
       "    <tr>\n",
       "      <th>4</th>\n",
       "      <td>carton sac</td>\n",
       "      <td>6</td>\n",
       "    </tr>\n",
       "  </tbody>\n",
       "</table>\n",
       "</div>"
      ],
      "text/plain": [
       "                                  commentaire_usager  label\n",
       "0               graffiti porte métallique voir photo      4\n",
       "1  sauvage de trottoirs metre vente alcool autori...      0\n",
       "2  de grillage donnant voies abîmé un enfant pass...      5\n",
       "3  autorisations cesse août une importante empris...      8\n",
       "4                                         carton sac      6"
      ]
     },
     "execution_count": 59,
     "metadata": {},
     "output_type": "execute_result"
    }
   ],
   "source": [
    "df_resampled.head()"
   ]
  },
  {
   "cell_type": "markdown",
   "metadata": {},
   "source": [
    "Distribution apres Oversampling"
   ]
  },
  {
   "cell_type": "code",
   "execution_count": 60,
   "metadata": {},
   "outputs": [],
   "source": [
    "count_resampled=y_resampled.value_counts()\n",
    "count_Viz2=pd.DataFrame({\"cible\": count_resampled.index, \"value\": count_resampled.values})"
   ]
  },
  {
   "cell_type": "code",
   "execution_count": 61,
   "metadata": {},
   "outputs": [
    {
     "data": {
      "text/html": [
       "\n",
       "<style>\n",
       "  #altair-viz-52c81b361fee45d382dedaf3d1a4b3f8.vega-embed {\n",
       "    width: 100%;\n",
       "    display: flex;\n",
       "  }\n",
       "\n",
       "  #altair-viz-52c81b361fee45d382dedaf3d1a4b3f8.vega-embed details,\n",
       "  #altair-viz-52c81b361fee45d382dedaf3d1a4b3f8.vega-embed details summary {\n",
       "    position: relative;\n",
       "  }\n",
       "</style>\n",
       "<div id=\"altair-viz-52c81b361fee45d382dedaf3d1a4b3f8\"></div>\n",
       "<script type=\"text/javascript\">\n",
       "  var VEGA_DEBUG = (typeof VEGA_DEBUG == \"undefined\") ? {} : VEGA_DEBUG;\n",
       "  (function(spec, embedOpt){\n",
       "    let outputDiv = document.currentScript.previousElementSibling;\n",
       "    if (outputDiv.id !== \"altair-viz-52c81b361fee45d382dedaf3d1a4b3f8\") {\n",
       "      outputDiv = document.getElementById(\"altair-viz-52c81b361fee45d382dedaf3d1a4b3f8\");\n",
       "    }\n",
       "    const paths = {\n",
       "      \"vega\": \"https://cdn.jsdelivr.net/npm/vega@5?noext\",\n",
       "      \"vega-lib\": \"https://cdn.jsdelivr.net/npm/vega-lib?noext\",\n",
       "      \"vega-lite\": \"https://cdn.jsdelivr.net/npm/vega-lite@5.17.0?noext\",\n",
       "      \"vega-embed\": \"https://cdn.jsdelivr.net/npm/vega-embed@6?noext\",\n",
       "    };\n",
       "\n",
       "    function maybeLoadScript(lib, version) {\n",
       "      var key = `${lib.replace(\"-\", \"\")}_version`;\n",
       "      return (VEGA_DEBUG[key] == version) ?\n",
       "        Promise.resolve(paths[lib]) :\n",
       "        new Promise(function(resolve, reject) {\n",
       "          var s = document.createElement('script');\n",
       "          document.getElementsByTagName(\"head\")[0].appendChild(s);\n",
       "          s.async = true;\n",
       "          s.onload = () => {\n",
       "            VEGA_DEBUG[key] = version;\n",
       "            return resolve(paths[lib]);\n",
       "          };\n",
       "          s.onerror = () => reject(`Error loading script: ${paths[lib]}`);\n",
       "          s.src = paths[lib];\n",
       "        });\n",
       "    }\n",
       "\n",
       "    function showError(err) {\n",
       "      outputDiv.innerHTML = `<div class=\"error\" style=\"color:red;\">${err}</div>`;\n",
       "      throw err;\n",
       "    }\n",
       "\n",
       "    function displayChart(vegaEmbed) {\n",
       "      vegaEmbed(outputDiv, spec, embedOpt)\n",
       "        .catch(err => showError(`Javascript Error: ${err.message}<br>This usually means there's a typo in your chart specification. See the javascript console for the full traceback.`));\n",
       "    }\n",
       "\n",
       "    if(typeof define === \"function\" && define.amd) {\n",
       "      requirejs.config({paths});\n",
       "      require([\"vega-embed\"], displayChart, err => showError(`Error loading script: ${err.message}`));\n",
       "    } else {\n",
       "      maybeLoadScript(\"vega\", \"5\")\n",
       "        .then(() => maybeLoadScript(\"vega-lite\", \"5.17.0\"))\n",
       "        .then(() => maybeLoadScript(\"vega-embed\", \"6\"))\n",
       "        .catch(showError)\n",
       "        .then(() => displayChart(vegaEmbed));\n",
       "    }\n",
       "  })({\"config\": {\"view\": {\"continuousWidth\": 300, \"continuousHeight\": 300}}, \"data\": {\"name\": \"data-f859bff68ff76dc41101693bb9d02ad5\"}, \"mark\": {\"type\": \"bar\"}, \"encoding\": {\"color\": {\"field\": \"cible\", \"type\": \"nominal\"}, \"tooltip\": [{\"field\": \"cible\", \"type\": \"nominal\"}, {\"field\": \"value\", \"type\": \"quantitative\"}], \"x\": {\"field\": \"cible\", \"type\": \"nominal\"}, \"y\": {\"field\": \"value\", \"type\": \"quantitative\"}}, \"height\": 400, \"params\": [{\"name\": \"param_2\", \"select\": {\"type\": \"interval\", \"encodings\": [\"x\", \"y\"]}, \"bind\": \"scales\"}], \"title\": \"Distribution des Classes apres sur-\\u00e9chantillonnage\", \"width\": 500, \"$schema\": \"https://vega.github.io/schema/vega-lite/v5.17.0.json\", \"datasets\": {\"data-f859bff68ff76dc41101693bb9d02ad5\": [{\"cible\": 4, \"value\": 314932}, {\"cible\": 0, \"value\": 314932}, {\"cible\": 5, \"value\": 314932}, {\"cible\": 8, \"value\": 314932}, {\"cible\": 6, \"value\": 314932}, {\"cible\": 7, \"value\": 314932}, {\"cible\": 2, \"value\": 314932}, {\"cible\": 1, \"value\": 314932}, {\"cible\": 3, \"value\": 314932}, {\"cible\": 9, \"value\": 314932}]}}, {\"mode\": \"vega-lite\"});\n",
       "</script>"
      ],
      "text/plain": [
       "alt.Chart(...)"
      ]
     },
     "metadata": {},
     "output_type": "display_data"
    }
   ],
   "source": [
    "import altair as alt\n",
    "\n",
    "chart=alt.Chart(count_Viz2).mark_bar().encode(\n",
    "    x='cible:N',\n",
    "    y='value:Q',\n",
    "    color=alt.Color(\"cible:N\"),\n",
    "    tooltip=['cible:N', 'value:Q'] \n",
    ").properties(\n",
    "    width=500,\n",
    "    height=400,\n",
    "    title=\"Distribution des Classes apres sur-échantillonnage\"\n",
    ").interactive()\n",
    "\n",
    "chart.display()"
   ]
  },
  {
   "cell_type": "code",
   "execution_count": 62,
   "metadata": {},
   "outputs": [],
   "source": [
    "df_resampled.to_csv(\"DmrAfterOversampling.csv\", sep=\";\", index=False)"
   ]
  },
  {
   "cell_type": "code",
   "execution_count": null,
   "metadata": {},
   "outputs": [
    {
     "data": {
      "text/plain": [
       "commentaire_usager    object\n",
       "label                  int64\n",
       "dtype: object"
      ]
     },
     "execution_count": 128,
     "metadata": {},
     "output_type": "execute_result"
    }
   ],
   "source": [
    "df_resampled.dtypes"
   ]
  },
  {
   "cell_type": "code",
   "execution_count": 130,
   "metadata": {},
   "outputs": [
    {
     "data": {
      "text/plain": [
       "(3149320, 2)"
      ]
     },
     "execution_count": 130,
     "metadata": {},
     "output_type": "execute_result"
    }
   ],
   "source": [
    "df_resampled.shape"
   ]
  },
  {
   "cell_type": "markdown",
   "metadata": {},
   "source": [
    "# Ovesampling avec des Synonyms"
   ]
  },
  {
   "cell_type": "raw",
   "metadata": {
    "vscode": {
     "languageId": "raw"
    }
   },
   "source": [
    "Operation trés lente mais tres efficace"
   ]
  },
  {
   "cell_type": "code",
   "execution_count": 1,
   "metadata": {},
   "outputs": [],
   "source": [
    "import nltk\n",
    "from nltk.corpus import wordnet as wn\n",
    "import random\n",
    "\n",
    "# Fonction pour obtenir les synonymes en français\n",
    "def get_french_synonyms(word):\n",
    "    synonyms = set()\n",
    "    for syn in wn.synsets(word, lang='fra'):\n",
    "        for lemma in syn.lemmas('fra'):\n",
    "            synonyms.add(lemma.name())\n",
    "    return list(synonyms)\n",
    "\n",
    "# Fonction pour augmenter le texte avec des synonymes\n",
    "def augment_text_french(text):\n",
    "    words = text.split()\n",
    "    new_text = []\n",
    "    for word in words:\n",
    "        synonyms = get_french_synonyms(word)\n",
    "        if synonyms:\n",
    "            new_word = random.choice(synonyms)\n",
    "            new_text.append(new_word)\n",
    "        else:\n",
    "            new_text.append(word)\n",
    "    return ' '.join(new_text)"
   ]
  },
  {
   "cell_type": "code",
   "execution_count": null,
   "metadata": {},
   "outputs": [],
   "source": [
    "max_class_size=df[\"label\"].value_counts().max()"
   ]
  },
  {
   "cell_type": "code",
   "execution_count": null,
   "metadata": {},
   "outputs": [],
   "source": [
    "augmented_data = []\n",
    "\n",
    "for label in class_distribution.index:\n",
    "    class_data = df[df['label'] == label]\n",
    "    while len(class_data) + len(augmented_data) < max_class_size:\n",
    "        for index, row in class_data.iterrows():\n",
    "            augmented_text = augment_text_french(row['commentaire_usager'])\n",
    "            augmented_data.append({'commentaire_usager': augmented_text, 'label': row['label']})\n",
    "            # Arrête la boucle si la taille cible est atteinte\n",
    "            if len(class_data) + len(augmented_data) >= max_class_size:\n",
    "                break\n",
    "\n",
    "# Crée un DataFrame pour les données augmentées\n",
    "augmented_df = pd.DataFrame(augmented_data)\n",
    "# Combine les données originales et les nouvelles données augmentées\n",
    "balanced_df = pd.concat([df, augmented_df], ignore_index=True)\n"
   ]
  },
  {
   "cell_type": "code",
   "execution_count": null,
   "metadata": {},
   "outputs": [],
   "source": [
    "augmented_df.to_csv(\"NEW_Data_augmented.csv\", index=False, sep=\";\")"
   ]
  },
  {
   "cell_type": "code",
   "execution_count": null,
   "metadata": {},
   "outputs": [],
   "source": [
    "# Combiner les données originales et augmentées\n",
    "balanced_df = pd.concat([df, augmented_df])\n",
    "\n",
    "print(\"Distribution des classes après augmentation: \\n \")\n",
    "print(balanced_df['label'].value_counts())"
   ]
  }
 ],
 "metadata": {
  "kernelspec": {
   "display_name": "Python 3",
   "language": "python",
   "name": "python3"
  },
  "language_info": {
   "codemirror_mode": {
    "name": "ipython",
    "version": 3
   },
   "file_extension": ".py",
   "mimetype": "text/x-python",
   "name": "python",
   "nbconvert_exporter": "python",
   "pygments_lexer": "ipython3",
   "version": "3.13.1"
  }
 },
 "nbformat": 4,
 "nbformat_minor": 2
}
